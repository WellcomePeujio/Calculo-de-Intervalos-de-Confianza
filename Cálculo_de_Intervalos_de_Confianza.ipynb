{
  "nbformat": 4,
  "nbformat_minor": 0,
  "metadata": {
    "colab": {
      "private_outputs": true,
      "provenance": [],
      "authorship_tag": "ABX9TyO+pIxVOpEVVKF6EQ15fDwR",
      "include_colab_link": true
    },
    "kernelspec": {
      "name": "python3",
      "display_name": "Python 3"
    },
    "language_info": {
      "name": "python"
    }
  },
  "cells": [
    {
      "cell_type": "markdown",
      "metadata": {
        "id": "view-in-github",
        "colab_type": "text"
      },
      "source": [
        "<a href=\"https://colab.research.google.com/github/WellcomePeujio/Calculo-de-Intervalos-de-Confianza/blob/main/C%C3%A1lculo_de_Intervalos_de_Confianza.ipynb\" target=\"_parent\"><img src=\"https://colab.research.google.com/assets/colab-badge.svg\" alt=\"Open In Colab\"/></a>"
      ]
    },
    {
      "cell_type": "markdown",
      "source": [
        "# Cálculo de Intervalos de Confianza\n",
        "\n",
        "**Problema**: Un analista de datos realiza una encuesta y encuentra que el **60%** de los encuestados prefieren un nuevo producto. La muestra incluye **200 personas**.\n",
        "\n",
        "**Preguntas**:\n",
        "\n",
        "1. Calcula el **intervalo de confianza del 95%** para la proporción de encuestados que prefieren el nuevo producto.\n",
        "2. Interpreta el intervalo de confianza y discute su importancia en la toma de decisiones.\n"
      ],
      "metadata": {
        "id": "l4RDqcma8GKS"
      }
    },
    {
      "cell_type": "markdown",
      "source": [
        "# Resolución del Problema de Intervalos de Confianza\n",
        "\n",
        "## Paso 1: Definir los Parámetros\n",
        "\n",
        "En este problema:\n",
        "- La proporción muestral ($\\hat{p}$) es **0.60** (60%).\n",
        "\n",
        "- El tamaño de la muestra ($n$) es **200**.\n",
        "\n",
        "- Queremos calcular el intervalo de confianza al **95%**, lo que corresponde a un valor crítico ($z$) de **1.96** para una distribución normal estándar.\n",
        "\n",
        "## Paso 2: Calcular el Error Estándar\n",
        "\n",
        "El **error estándar** para la proporción se calcula con la siguiente fórmula:\n",
        "\n",
        "$$\n",
        "SE = \\sqrt{\\frac{\\hat{p}(1 - \\hat{p})}{n}}\n",
        "$$\n",
        "\n",
        "Sustituyendo los valores:\n",
        "\n",
        "$$\n",
        "SE = \\sqrt{\\frac{0.60 \\cdot (1 - 0.60)}{200}}\n",
        "$$\n",
        "\n",
        "$$\n",
        "SE = \\sqrt{\\frac{0.24}{200}} = \\sqrt{0.0012} \\approx 0.0346\n",
        "$$\n",
        "\n",
        "## Paso 3: Calcular el Intervalo de Confianza\n",
        "\n",
        "El intervalo de confianza al 95% se calcula con la fórmula:\n",
        "\n",
        "$$\n",
        "\\hat{p} \\pm z \\cdot SE\n",
        "$$\n",
        "\n",
        "Sustituyendo $\\hat{p} = 0.60$, $z = 1.96$, y $SE = 0.0346$:\n",
        "\n",
        "$$\n",
        "0.60 \\pm 1.96 \\cdot 0.0346\n",
        "$$\n",
        "\n",
        "Calculando los límites:\n",
        "\n",
        "$$\n",
        "Límite \\, inferior = 0.60 - 1.96 \\cdot 0.0346 \\approx 0.5322\n",
        "$$\n",
        "\n",
        "$$\n",
        "Límite \\, superior = 0.60 + 1.96 \\cdot 0.0346 \\approx 0.6678\n",
        "$$\n",
        "\n",
        "El intervalo de confianza del 95% es:\n",
        "\n",
        "$$\n",
        "(0.5322, 0.6678)\n",
        "$$\n",
        "\n",
        "## Interpretación\n",
        "\n",
        "El intervalo de confianza al 95% para la proporción de encuestados que prefieren el nuevo producto es **(53.22%, 66.78%)**. Esto significa que, con un nivel de confianza del 95%, la proporción real de la población que prefiere el nuevo producto se encuentra dentro de este rango.\n",
        "\n",
        "Este intervalo es importante para la toma de decisiones, ya que brinda una estimación del porcentaje de preferencia del producto con un margen de error. Puede ayudar a los responsables de marketing a evaluar la aceptación del producto antes de su lanzamiento masivo.\n"
      ],
      "metadata": {
        "id": "z7DvEYxw8LFd"
      }
    },
    {
      "cell_type": "code",
      "source": [
        "import numpy as np\n",
        "import matplotlib.pyplot as plt\n",
        "import scipy.stats as stats\n",
        "\n",
        "# Parámetros del problema\n",
        "p_hat = 0.60  # Proporción muestral\n",
        "n = 200  # Tamaño de la muestra\n",
        "z = 1.96  # Valor crítico para un intervalo de confianza del 95%\n",
        "\n",
        "# Cálculo del error estándar\n",
        "SE = np.sqrt((p_hat * (1 - p_hat)) / n)\n",
        "\n",
        "# Cálculo del intervalo de confianza\n",
        "lower_limit = p_hat - z * SE\n",
        "upper_limit = p_hat + z * SE\n",
        "\n",
        "# Generar datos para la gráfica\n",
        "x = np.linspace(0.4, 0.8, 500)\n",
        "y = stats.norm.pdf(x, p_hat, SE)\n",
        "\n",
        "# Crear la gráfica\n",
        "plt.figure(figsize=(12, 6))\n",
        "plt.plot(x, y, color='blue', label='Distribución de la Proporción Muestral')\n",
        "plt.axvline(x=lower_limit, color='red', linestyle='--', label=f'Límite Inferior = {lower_limit:.4f}')\n",
        "plt.axvline(x=upper_limit, color='green', linestyle='--', label=f'Límite Superior = {upper_limit:.4f}')\n",
        "plt.axvline(x=p_hat, color='orange', linestyle='--', label=f'Proporción Muestral = {p_hat:.2f}')\n",
        "plt.fill_between(x, y, where=(x >= lower_limit) & (x <= upper_limit), color='lightgray', alpha=0.5, label='Intervalo de Confianza al 95%')\n",
        "plt.title('Intervalo de Confianza para la Proporción Muestral', fontsize=16)\n",
        "plt.xlabel('Proporción', fontsize=14)\n",
        "plt.ylabel('Densidad de Probabilidad', fontsize=14)\n",
        "plt.legend(fontsize=12)\n",
        "plt.grid(True)\n",
        "plt.show()\n",
        "\n",
        "# Mostrar los resultados numéricos\n",
        "lower_limit, upper_limit\n"
      ],
      "metadata": {
        "id": "K7Z6DdBn9Qxu"
      },
      "execution_count": null,
      "outputs": []
    }
  ]
}